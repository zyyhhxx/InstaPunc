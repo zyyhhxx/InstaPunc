{
 "cells": [
  {
   "cell_type": "code",
   "execution_count": 1,
   "metadata": {},
   "outputs": [
    {
     "name": "stdout",
     "output_type": "stream",
     "text": [
      "cuda:0\n"
     ]
    }
   ],
   "source": [
    "from IPython.display import display\n",
    "from torchnlp.datasets import iwslt_dataset\n",
    "from torchnlp.word_to_vector import GloVe\n",
    "from utils import *\n",
    "from models import *\n",
    "device = torch.device(\"cuda:0\" if torch.cuda.is_available() else \"cpu\")\n",
    "print(device)"
   ]
  },
  {
   "cell_type": "code",
   "execution_count": 2,
   "metadata": {},
   "outputs": [],
   "source": [
    "vectors = GloVe()"
   ]
  },
  {
   "cell_type": "code",
   "execution_count": 3,
   "metadata": {},
   "outputs": [
    {
     "name": "stdout",
     "output_type": "stream",
     "text": [
      "Train: 196884\n",
      "Dev: 993\n",
      "Test: 1305\n"
     ]
    }
   ],
   "source": [
    "train_raw = [sentence['en'] for sentence in iwslt_dataset(train=True)]\n",
    "dev_raw = [sentence['en'] for sentence in iwslt_dataset(dev=True)]\n",
    "test_raw = [sentence['en'] for sentence in iwslt_dataset(test=True)]\n",
    "print(\"Train:\", len(train_raw))\n",
    "print(\"Dev:\", len(dev_raw))\n",
    "print(\"Test:\", len(test_raw))"
   ]
  },
  {
   "cell_type": "code",
   "execution_count": 4,
   "metadata": {},
   "outputs": [
    {
     "name": "stdout",
     "output_type": "stream",
     "text": [
      "Preprocessing the train data\n",
      "Tokenizing:\n"
     ]
    },
    {
     "data": {
      "application/vnd.jupyter.widget-view+json": {
       "model_id": "f9b29e3817884d91a3fcfd63dd9613b2",
       "version_major": 2,
       "version_minor": 0
      },
      "text/plain": [
       "HBox(children=(FloatProgress(value=0.0, max=15000.0), HTML(value='')))"
      ]
     },
     "metadata": {},
     "output_type": "display_data"
    },
    {
     "name": "stdout",
     "output_type": "stream",
     "text": [
      "\n",
      "Padding:\n"
     ]
    },
    {
     "data": {
      "application/vnd.jupyter.widget-view+json": {
       "model_id": "561ec78f52184f4bb7e7a8ae7e028971",
       "version_major": 2,
       "version_minor": 0
      },
      "text/plain": [
       "HBox(children=(FloatProgress(value=0.0, max=15000.0), HTML(value='')))"
      ]
     },
     "metadata": {},
     "output_type": "display_data"
    },
    {
     "name": "stdout",
     "output_type": "stream",
     "text": [
      "\n",
      "Creating labels:\n"
     ]
    },
    {
     "data": {
      "application/vnd.jupyter.widget-view+json": {
       "model_id": "ff025a07c7e04c769be265aa7a14c142",
       "version_major": 2,
       "version_minor": 0
      },
      "text/plain": [
       "HBox(children=(FloatProgress(value=0.0, max=15000.0), HTML(value='')))"
      ]
     },
     "metadata": {},
     "output_type": "display_data"
    },
    {
     "name": "stdout",
     "output_type": "stream",
     "text": [
      "\n",
      "Get word vector weights\n"
     ]
    },
    {
     "data": {
      "application/vnd.jupyter.widget-view+json": {
       "model_id": "a91ec0b18c7b4bdfb336b63fa2b86c19",
       "version_major": 2,
       "version_minor": 0
      },
      "text/plain": [
       "HBox(children=(FloatProgress(value=0.0, max=268729.0), HTML(value='')))"
      ]
     },
     "metadata": {},
     "output_type": "display_data"
    },
    {
     "name": "stdout",
     "output_type": "stream",
     "text": [
      "\n",
      "Converting labels to tensor\n"
     ]
    },
    {
     "data": {
      "application/vnd.jupyter.widget-view+json": {
       "model_id": "8778b6604672405a80e01e08ac59ebac",
       "version_major": 2,
       "version_minor": 0
      },
      "text/plain": [
       "HBox(children=(FloatProgress(value=0.0, max=268729.0), HTML(value='')))"
      ]
     },
     "metadata": {},
     "output_type": "display_data"
    },
    {
     "name": "stdout",
     "output_type": "stream",
     "text": [
      "\n",
      "Printing samples of the dataset\n",
      "['<pad>', '<pad>', 'David', 'Gallo', 'This'] ('o', True)\n",
      "['<pad>', 'David', 'Gallo', 'This', 'is'] ('o', True)\n",
      "['David', 'Gallo', 'This', 'is', 'Bill'] ('o', True)\n",
      "['Gallo', 'This', 'is', 'Bill', 'Lange'] ('o', False)\n",
      "['This', 'is', 'Bill', 'Lange', 'I'] ('o', True)\n",
      "['is', 'Bill', 'Lange', 'I', \"'m\"] ('.', True)\n",
      "['Bill', 'Lange', 'I', \"'m\", 'Dave'] ('o', True)\n",
      "['Lange', 'I', \"'m\", 'Dave', 'Gallo'] ('o', False)\n",
      "['I', \"'m\", 'Dave', 'Gallo', '<pad>'] ('o', True)\n",
      "[\"'m\", 'Dave', 'Gallo', '<pad>', '<pad>'] ('.', True)\n",
      "['<pad>', '<pad>', 'And', 'we', \"'re\"] ('o', True)\n",
      "['<pad>', 'And', 'we', \"'re\", 'going'] ('o', False)\n",
      "['And', 'we', \"'re\", 'going', 'to'] ('o', False)\n",
      "['we', \"'re\", 'going', 'to', 'tell'] ('o', False)\n",
      "[\"'re\", 'going', 'to', 'tell', 'you'] ('o', False)\n",
      "Preprocessing the dev data\n",
      "Tokenizing:\n"
     ]
    },
    {
     "data": {
      "application/vnd.jupyter.widget-view+json": {
       "model_id": "1c3b8277df4843c898957fb6af1aea95",
       "version_major": 2,
       "version_minor": 0
      },
      "text/plain": [
       "HBox(children=(FloatProgress(value=0.0, max=993.0), HTML(value='')))"
      ]
     },
     "metadata": {},
     "output_type": "display_data"
    },
    {
     "name": "stdout",
     "output_type": "stream",
     "text": [
      "\n",
      "Padding:\n"
     ]
    },
    {
     "data": {
      "application/vnd.jupyter.widget-view+json": {
       "model_id": "0965b5116dc047bca50d4482edc2c0a2",
       "version_major": 2,
       "version_minor": 0
      },
      "text/plain": [
       "HBox(children=(FloatProgress(value=0.0, max=993.0), HTML(value='')))"
      ]
     },
     "metadata": {},
     "output_type": "display_data"
    },
    {
     "name": "stdout",
     "output_type": "stream",
     "text": [
      "\n",
      "Creating labels:\n"
     ]
    },
    {
     "data": {
      "application/vnd.jupyter.widget-view+json": {
       "model_id": "ffe878dd3e744c3fbb10f931a263dcbd",
       "version_major": 2,
       "version_minor": 0
      },
      "text/plain": [
       "HBox(children=(FloatProgress(value=0.0, max=993.0), HTML(value='')))"
      ]
     },
     "metadata": {},
     "output_type": "display_data"
    },
    {
     "name": "stdout",
     "output_type": "stream",
     "text": [
      "\n",
      "Get word vector weights\n"
     ]
    },
    {
     "data": {
      "application/vnd.jupyter.widget-view+json": {
       "model_id": "1c88950b162d452da6949c4184e7f23d",
       "version_major": 2,
       "version_minor": 0
      },
      "text/plain": [
       "HBox(children=(FloatProgress(value=0.0, max=18302.0), HTML(value='')))"
      ]
     },
     "metadata": {},
     "output_type": "display_data"
    },
    {
     "name": "stdout",
     "output_type": "stream",
     "text": [
      "\n",
      "Converting labels to tensor\n"
     ]
    },
    {
     "data": {
      "application/vnd.jupyter.widget-view+json": {
       "model_id": "c2fb5ec7d0e5453c922a3bf562a5b810",
       "version_major": 2,
       "version_minor": 0
      },
      "text/plain": [
       "HBox(children=(FloatProgress(value=0.0, max=18302.0), HTML(value='')))"
      ]
     },
     "metadata": {},
     "output_type": "display_data"
    },
    {
     "name": "stdout",
     "output_type": "stream",
     "text": [
      "\n",
      "Printing samples of the dataset\n",
      "['<pad>', '<pad>', 'When', 'I', 'was'] ('o', True)\n",
      "['<pad>', 'When', 'I', 'was', '11'] ('o', True)\n",
      "['When', 'I', 'was', '11', 'I'] ('o', False)\n",
      "['I', 'was', '11', 'I', 'remember'] (',', False)\n",
      "['was', '11', 'I', 'remember', 'waking'] ('o', True)\n",
      "['11', 'I', 'remember', 'waking', 'up'] ('o', False)\n",
      "['I', 'remember', 'waking', 'up', 'one'] ('o', False)\n",
      "['remember', 'waking', 'up', 'one', 'morning'] ('o', False)\n",
      "['waking', 'up', 'one', 'morning', 'to'] ('o', False)\n",
      "['up', 'one', 'morning', 'to', 'the'] ('o', False)\n",
      "['one', 'morning', 'to', 'the', 'sound'] ('o', False)\n",
      "['morning', 'to', 'the', 'sound', 'of'] ('o', False)\n",
      "['to', 'the', 'sound', 'of', 'joy'] ('o', False)\n",
      "['the', 'sound', 'of', 'joy', 'in'] ('o', False)\n",
      "['sound', 'of', 'joy', 'in', 'my'] ('o', False)\n",
      "Preprocessing the test data\n",
      "Tokenizing:\n"
     ]
    },
    {
     "data": {
      "application/vnd.jupyter.widget-view+json": {
       "model_id": "9058179f018246a1b8f824d2ca87a09e",
       "version_major": 2,
       "version_minor": 0
      },
      "text/plain": [
       "HBox(children=(FloatProgress(value=0.0, max=1305.0), HTML(value='')))"
      ]
     },
     "metadata": {},
     "output_type": "display_data"
    },
    {
     "name": "stdout",
     "output_type": "stream",
     "text": [
      "\n",
      "Padding:\n"
     ]
    },
    {
     "data": {
      "application/vnd.jupyter.widget-view+json": {
       "model_id": "b299c47de71c40659eaa85bffd6081d8",
       "version_major": 2,
       "version_minor": 0
      },
      "text/plain": [
       "HBox(children=(FloatProgress(value=0.0, max=1305.0), HTML(value='')))"
      ]
     },
     "metadata": {},
     "output_type": "display_data"
    },
    {
     "name": "stdout",
     "output_type": "stream",
     "text": [
      "\n",
      "Creating labels:\n"
     ]
    },
    {
     "data": {
      "application/vnd.jupyter.widget-view+json": {
       "model_id": "fbf76e07f0f144eaba7234dc1406c288",
       "version_major": 2,
       "version_minor": 0
      },
      "text/plain": [
       "HBox(children=(FloatProgress(value=0.0, max=1305.0), HTML(value='')))"
      ]
     },
     "metadata": {},
     "output_type": "display_data"
    },
    {
     "name": "stdout",
     "output_type": "stream",
     "text": [
      "\n",
      "Get word vector weights\n"
     ]
    },
    {
     "data": {
      "application/vnd.jupyter.widget-view+json": {
       "model_id": "e52911a8f1b64fc9a8abb82a3d9c7ad0",
       "version_major": 2,
       "version_minor": 0
      },
      "text/plain": [
       "HBox(children=(FloatProgress(value=0.0, max=21793.0), HTML(value='')))"
      ]
     },
     "metadata": {},
     "output_type": "display_data"
    },
    {
     "name": "stdout",
     "output_type": "stream",
     "text": [
      "\n",
      "Converting labels to tensor\n"
     ]
    },
    {
     "data": {
      "application/vnd.jupyter.widget-view+json": {
       "model_id": "ca5b16d0aed8403aabc31d5373061ae2",
       "version_major": 2,
       "version_minor": 0
      },
      "text/plain": [
       "HBox(children=(FloatProgress(value=0.0, max=21793.0), HTML(value='')))"
      ]
     },
     "metadata": {},
     "output_type": "display_data"
    },
    {
     "name": "stdout",
     "output_type": "stream",
     "text": [
      "\n",
      "Printing samples of the dataset\n",
      "['<pad>', '<pad>', 'When', 'I', 'was'] ('o', True)\n",
      "['<pad>', 'When', 'I', 'was', 'in'] ('o', True)\n",
      "['When', 'I', 'was', 'in', 'my'] ('o', False)\n",
      "['I', 'was', 'in', 'my', '20s'] ('o', False)\n",
      "['was', 'in', 'my', '20s', 'I'] ('o', False)\n",
      "['in', 'my', '20s', 'I', 'saw'] (',', False)\n",
      "['my', '20s', 'I', 'saw', 'my'] ('o', True)\n",
      "['20s', 'I', 'saw', 'my', 'very'] ('o', False)\n",
      "['I', 'saw', 'my', 'very', 'first'] ('o', False)\n",
      "['saw', 'my', 'very', 'first', 'psychotherapy'] ('o', False)\n",
      "['my', 'very', 'first', 'psychotherapy', 'client'] ('o', False)\n",
      "['very', 'first', 'psychotherapy', 'client', '<pad>'] ('o', False)\n",
      "['first', 'psychotherapy', 'client', '<pad>', '<pad>'] ('.', False)\n",
      "['<pad>', '<pad>', 'I', 'was', 'a'] ('o', True)\n",
      "['<pad>', 'I', 'was', 'a', 'Ph.D.'] ('o', False)\n"
     ]
    }
   ],
   "source": [
    "print(\"Preprocessing the train data\")\n",
    "train_x, train_y = preprocess_data(train_raw[:15000], WINDOW_SIZE, CLASSES, vectors)\n",
    "print(\"Preprocessing the dev data\")\n",
    "dev_x, dev_y = preprocess_data(dev_raw, WINDOW_SIZE, CLASSES, vectors)\n",
    "print(\"Preprocessing the test data\")\n",
    "test_x, test_y = preprocess_data(test_raw, WINDOW_SIZE, CLASSES, vectors)"
   ]
  },
  {
   "cell_type": "code",
   "execution_count": 5,
   "metadata": {},
   "outputs": [],
   "source": [
    "train_loader = DataLoader(PuncDataset(train_x, train_y), batch_size=BATCH_SIZE,\n",
    "                          shuffle=True, num_workers=0)\n",
    "dev_loader = DataLoader(PuncDataset(dev_x, dev_y), batch_size=BATCH_SIZE,\n",
    "                        shuffle=True, num_workers=0)\n",
    "test_loader = DataLoader(PuncDataset(test_x, test_y), batch_size=BATCH_SIZE,\n",
    "                        shuffle=True, num_workers=0)"
   ]
  },
  {
   "cell_type": "code",
   "execution_count": 6,
   "metadata": {},
   "outputs": [
    {
     "name": "stdout",
     "output_type": "stream",
     "text": [
      "----------------------------\n",
      "Epoch: 0\n"
     ]
    },
    {
     "data": {
      "application/vnd.jupyter.widget-view+json": {
       "model_id": "",
       "version_major": 2,
       "version_minor": 0
      },
      "text/plain": [
       "HBox(children=(FloatProgress(value=0.0, max=16796.0), HTML(value='')))"
      ]
     },
     "metadata": {},
     "output_type": "display_data"
    },
    {
     "name": "stdout",
     "output_type": "stream",
     "text": [
      "Training loss for punctuation: 15.347577390925718\n",
      "Training loss for capitalization: 6.22274045941091\n",
      "Validation accuracy: punctuation: 92.5309%, capitalization: 98.3772%\n",
      "----------------------------\n",
      "Epoch: 1\n"
     ]
    },
    {
     "data": {
      "application/vnd.jupyter.widget-view+json": {
       "model_id": "",
       "version_major": 2,
       "version_minor": 0
      },
      "text/plain": [
       "HBox(children=(FloatProgress(value=0.0, max=16796.0), HTML(value='')))"
      ]
     },
     "metadata": {},
     "output_type": "display_data"
    },
    {
     "name": "stdout",
     "output_type": "stream",
     "text": [
      "Training loss for punctuation: 15.045071120101317\n",
      "Training loss for capitalization: 6.089971795791699\n",
      "Validation accuracy: punctuation: 93.6838%, capitalization: 98.3991%\n",
      "----------------------------\n",
      "Epoch: 2\n"
     ]
    },
    {
     "data": {
      "application/vnd.jupyter.widget-view+json": {
       "model_id": "",
       "version_major": 2,
       "version_minor": 0
      },
      "text/plain": [
       "HBox(children=(FloatProgress(value=0.0, max=16796.0), HTML(value='')))"
      ]
     },
     "metadata": {},
     "output_type": "display_data"
    },
    {
     "name": "stdout",
     "output_type": "stream",
     "text": [
      "Training loss for punctuation: 14.81564464055802\n",
      "Training loss for capitalization: 6.0246026452207575\n",
      "Validation accuracy: punctuation: 93.8313%, capitalization: 98.3663%\n",
      "----------------------------\n",
      "Epoch: 3\n"
     ]
    },
    {
     "data": {
      "application/vnd.jupyter.widget-view+json": {
       "model_id": "",
       "version_major": 2,
       "version_minor": 0
      },
      "text/plain": [
       "HBox(children=(FloatProgress(value=0.0, max=16796.0), HTML(value='')))"
      ]
     },
     "metadata": {},
     "output_type": "display_data"
    },
    {
     "name": "stdout",
     "output_type": "stream",
     "text": [
      "Training loss for punctuation: 14.758271136754296\n",
      "Training loss for capitalization: 5.9841541023190805\n",
      "Validation accuracy: punctuation: 93.6674%, capitalization: 98.4209%\n",
      "----------------------------\n",
      "Epoch: 4\n"
     ]
    },
    {
     "data": {
      "application/vnd.jupyter.widget-view+json": {
       "model_id": "",
       "version_major": 2,
       "version_minor": 0
      },
      "text/plain": [
       "HBox(children=(FloatProgress(value=0.0, max=16796.0), HTML(value='')))"
      ]
     },
     "metadata": {},
     "output_type": "display_data"
    },
    {
     "name": "stdout",
     "output_type": "stream",
     "text": [
      "Training loss for punctuation: 14.722256013462163\n",
      "Training loss for capitalization: 5.944104349394587\n",
      "Validation accuracy: punctuation: 93.7602%, capitalization: 98.4155%\n",
      "----------------------------\n",
      "Epoch: 5\n"
     ]
    },
    {
     "data": {
      "application/vnd.jupyter.widget-view+json": {
       "model_id": "",
       "version_major": 2,
       "version_minor": 0
      },
      "text/plain": [
       "HBox(children=(FloatProgress(value=0.0, max=16796.0), HTML(value='')))"
      ]
     },
     "metadata": {},
     "output_type": "display_data"
    },
    {
     "name": "stdout",
     "output_type": "stream",
     "text": [
      "Training loss for punctuation: 14.637139756854417\n",
      "Training loss for capitalization: 5.94471887383405\n",
      "Validation accuracy: punctuation: 93.7821%, capitalization: 98.4264%\n",
      "----------------------------\n",
      "Epoch: 6\n"
     ]
    },
    {
     "data": {
      "application/vnd.jupyter.widget-view+json": {
       "model_id": "",
       "version_major": 2,
       "version_minor": 0
      },
      "text/plain": [
       "HBox(children=(FloatProgress(value=0.0, max=16796.0), HTML(value='')))"
      ]
     },
     "metadata": {},
     "output_type": "display_data"
    },
    {
     "name": "stdout",
     "output_type": "stream",
     "text": [
      "Training loss for punctuation: 14.546503033807488\n",
      "Training loss for capitalization: 5.892978221708591\n",
      "Validation accuracy: punctuation: 93.6838%, capitalization: 98.4209%\n",
      "----------------------------\n",
      "Epoch: 7\n"
     ]
    },
    {
     "data": {
      "application/vnd.jupyter.widget-view+json": {
       "model_id": "",
       "version_major": 2,
       "version_minor": 0
      },
      "text/plain": [
       "HBox(children=(FloatProgress(value=0.0, max=16796.0), HTML(value='')))"
      ]
     },
     "metadata": {},
     "output_type": "display_data"
    },
    {
     "name": "stdout",
     "output_type": "stream",
     "text": [
      "Training loss for punctuation: 14.511608178749286\n",
      "Training loss for capitalization: 5.868061848078832\n",
      "Validation accuracy: punctuation: 93.6564%, capitalization: 98.3882%\n",
      "----------------------------\n",
      "Epoch: 8\n"
     ]
    },
    {
     "data": {
      "application/vnd.jupyter.widget-view+json": {
       "model_id": "",
       "version_major": 2,
       "version_minor": 0
      },
      "text/plain": [
       "HBox(children=(FloatProgress(value=0.0, max=16796.0), HTML(value='')))"
      ]
     },
     "metadata": {},
     "output_type": "display_data"
    },
    {
     "name": "stdout",
     "output_type": "stream",
     "text": [
      "Training loss for punctuation: 14.415880915788021\n",
      "Training loss for capitalization: 5.8662708488304744\n",
      "Validation accuracy: punctuation: 93.6728%, capitalization: 98.4155%\n",
      "----------------------------\n",
      "Epoch: 9\n"
     ]
    },
    {
     "data": {
      "application/vnd.jupyter.widget-view+json": {
       "model_id": "",
       "version_major": 2,
       "version_minor": 0
      },
      "text/plain": [
       "HBox(children=(FloatProgress(value=0.0, max=16796.0), HTML(value='')))"
      ]
     },
     "metadata": {},
     "output_type": "display_data"
    },
    {
     "name": "stdout",
     "output_type": "stream",
     "text": [
      "Training loss for punctuation: 14.418256016519559\n",
      "Training loss for capitalization: 5.865802042065603\n",
      "Validation accuracy: punctuation: 93.569%, capitalization: 98.3335%\n",
      "Finished Training\n"
     ]
    }
   ],
   "source": [
    "import torch.optim as optim\n",
    "\n",
    "model = PuncLinear(CLASSES, WINDOW_SIZE)\n",
    "model.to(device)\n",
    "criterions = [nn.CrossEntropyLoss(), nn.CrossEntropyLoss()]\n",
    "optimizer = optim.SGD(model.parameters(), lr=0.01, momentum=0.9)\n",
    "\n",
    "if __name__=='__main__':\n",
    "    train(train_loader, dev_loader, model, criterions, optimizer, 10, device)\n",
    "\n",
    "    print('Finished Training')"
   ]
  },
  {
   "cell_type": "code",
   "execution_count": 7,
   "metadata": {},
   "outputs": [
    {
     "name": "stdout",
     "output_type": "stream",
     "text": [
      "Test accuracy: punctuation: 94.1587%, capitalization: 98.2839%\n"
     ]
    },
    {
     "data": {
      "text/html": [
       "<div>\n",
       "<style scoped>\n",
       "    .dataframe tbody tr th:only-of-type {\n",
       "        vertical-align: middle;\n",
       "    }\n",
       "\n",
       "    .dataframe tbody tr th {\n",
       "        vertical-align: top;\n",
       "    }\n",
       "\n",
       "    .dataframe thead th {\n",
       "        text-align: right;\n",
       "    }\n",
       "</style>\n",
       "<table border=\"1\" class=\"dataframe\">\n",
       "  <thead>\n",
       "    <tr style=\"text-align: right;\">\n",
       "      <th></th>\n",
       "      <th>predicted</th>\n",
       "      <th>predicted correctly</th>\n",
       "      <th>predicted expectation</th>\n",
       "      <th>precision</th>\n",
       "      <th>recall</th>\n",
       "      <th>f_score</th>\n",
       "    </tr>\n",
       "    <tr>\n",
       "      <th>punctuation</th>\n",
       "      <th></th>\n",
       "      <th></th>\n",
       "      <th></th>\n",
       "      <th></th>\n",
       "      <th></th>\n",
       "      <th></th>\n",
       "    </tr>\n",
       "  </thead>\n",
       "  <tbody>\n",
       "    <tr>\n",
       "      <td>o</td>\n",
       "      <td>19569</td>\n",
       "      <td>18756</td>\n",
       "      <td>19071</td>\n",
       "      <td>0.958406</td>\n",
       "      <td>0.983431</td>\n",
       "      <td>0.970757</td>\n",
       "    </tr>\n",
       "    <tr>\n",
       "      <td>,</td>\n",
       "      <td>904</td>\n",
       "      <td>585</td>\n",
       "      <td>1354</td>\n",
       "      <td>0.646409</td>\n",
       "      <td>0.431734</td>\n",
       "      <td>0.517699</td>\n",
       "    </tr>\n",
       "    <tr>\n",
       "      <td>.</td>\n",
       "      <td>1320</td>\n",
       "      <td>1179</td>\n",
       "      <td>1227</td>\n",
       "      <td>0.892506</td>\n",
       "      <td>0.960098</td>\n",
       "      <td>0.925069</td>\n",
       "    </tr>\n",
       "    <tr>\n",
       "      <td>?</td>\n",
       "      <td>0</td>\n",
       "      <td>0</td>\n",
       "      <td>128</td>\n",
       "      <td>0.000000</td>\n",
       "      <td>0.000000</td>\n",
       "      <td>0.000000</td>\n",
       "    </tr>\n",
       "    <tr>\n",
       "      <td>!</td>\n",
       "      <td>0</td>\n",
       "      <td>0</td>\n",
       "      <td>13</td>\n",
       "      <td>0.000000</td>\n",
       "      <td>0.000000</td>\n",
       "      <td>0.000000</td>\n",
       "    </tr>\n",
       "  </tbody>\n",
       "</table>\n",
       "</div>"
      ],
      "text/plain": [
       "             predicted  predicted correctly  predicted expectation  precision  \\\n",
       "punctuation                                                                     \n",
       "o                19569                18756                  19071   0.958406   \n",
       ",                  904                  585                   1354   0.646409   \n",
       ".                 1320                 1179                   1227   0.892506   \n",
       "?                    0                    0                    128   0.000000   \n",
       "!                    0                    0                     13   0.000000   \n",
       "\n",
       "               recall   f_score  \n",
       "punctuation                      \n",
       "o            0.983431  0.970757  \n",
       ",            0.431734  0.517699  \n",
       ".            0.960098  0.925069  \n",
       "?            0.000000  0.000000  \n",
       "!            0.000000  0.000000  "
      ]
     },
     "metadata": {},
     "output_type": "display_data"
    },
    {
     "data": {
      "text/html": [
       "<div>\n",
       "<style scoped>\n",
       "    .dataframe tbody tr th:only-of-type {\n",
       "        vertical-align: middle;\n",
       "    }\n",
       "\n",
       "    .dataframe tbody tr th {\n",
       "        vertical-align: top;\n",
       "    }\n",
       "\n",
       "    .dataframe thead th {\n",
       "        text-align: right;\n",
       "    }\n",
       "</style>\n",
       "<table border=\"1\" class=\"dataframe\">\n",
       "  <thead>\n",
       "    <tr style=\"text-align: right;\">\n",
       "      <th></th>\n",
       "      <th>predicted</th>\n",
       "      <th>predicted correctly</th>\n",
       "      <th>predicted expectation</th>\n",
       "      <th>precision</th>\n",
       "      <th>recall</th>\n",
       "      <th>f_score</th>\n",
       "    </tr>\n",
       "    <tr>\n",
       "      <th>capitalization</th>\n",
       "      <th></th>\n",
       "      <th></th>\n",
       "      <th></th>\n",
       "      <th></th>\n",
       "      <th></th>\n",
       "      <th></th>\n",
       "    </tr>\n",
       "  </thead>\n",
       "  <tbody>\n",
       "    <tr>\n",
       "      <td>No</td>\n",
       "      <td>19348</td>\n",
       "      <td>19102</td>\n",
       "      <td>19230</td>\n",
       "      <td>0.987234</td>\n",
       "      <td>0.993292</td>\n",
       "      <td>0.990254</td>\n",
       "    </tr>\n",
       "    <tr>\n",
       "      <td>Yes</td>\n",
       "      <td>2445</td>\n",
       "      <td>2317</td>\n",
       "      <td>2563</td>\n",
       "      <td>0.947261</td>\n",
       "      <td>0.903666</td>\n",
       "      <td>0.924950</td>\n",
       "    </tr>\n",
       "  </tbody>\n",
       "</table>\n",
       "</div>"
      ],
      "text/plain": [
       "                predicted  predicted correctly  predicted expectation  \\\n",
       "capitalization                                                          \n",
       "No                  19348                19102                  19230   \n",
       "Yes                  2445                 2317                   2563   \n",
       "\n",
       "                precision    recall   f_score  \n",
       "capitalization                                 \n",
       "No               0.987234  0.993292  0.990254  \n",
       "Yes              0.947261  0.903666  0.924950  "
      ]
     },
     "metadata": {},
     "output_type": "display_data"
    }
   ],
   "source": [
    "dfs = test(test_loader, model, device)\n",
    "display(dfs[0])\n",
    "display(dfs[1])"
   ]
  },
  {
   "cell_type": "code",
   "execution_count": 8,
   "metadata": {},
   "outputs": [],
   "source": [
    "#from datetime import datetime\n",
    "#now = datetime.now()\n",
    "\n",
    "#PATH = './checkpoints/' + now.strftime(\"%m-%d-%Y-%H-%M-%S\") + '.pth'\n",
    "#torch.save(model.state_dict(), PATH)"
   ]
  },
  {
   "cell_type": "code",
   "execution_count": null,
   "metadata": {},
   "outputs": [],
   "source": []
  }
 ],
 "metadata": {
  "kernelspec": {
   "display_name": "Python 3",
   "language": "python",
   "name": "python3"
  },
  "language_info": {
   "codemirror_mode": {
    "name": "ipython",
    "version": 3
   },
   "file_extension": ".py",
   "mimetype": "text/x-python",
   "name": "python",
   "nbconvert_exporter": "python",
   "pygments_lexer": "ipython3",
   "version": "3.7.4"
  }
 },
 "nbformat": 4,
 "nbformat_minor": 2
}
