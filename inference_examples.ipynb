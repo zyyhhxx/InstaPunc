{
 "cells": [
  {
   "cell_type": "code",
   "execution_count": 4,
   "metadata": {},
   "outputs": [
    {
     "name": "stdout",
     "output_type": "stream",
     "text": [
      "cuda:0\n"
     ]
    }
   ],
   "source": [
    "from torchnlp.word_to_vector import GloVe\n",
    "from torch.utils.data import DataLoader\n",
    "from utils import *\n",
    "from models import *\n",
    "device = torch.device(\"cuda:0\" if torch.cuda.is_available() else \"cpu\")\n",
    "print(device)"
   ]
  },
  {
   "cell_type": "code",
   "execution_count": 5,
   "metadata": {},
   "outputs": [],
   "source": [
    "vectors = GloVe()"
   ]
  },
  {
   "cell_type": "code",
   "execution_count": 11,
   "metadata": {},
   "outputs": [
    {
     "name": "stdout",
     "output_type": "stream",
     "text": [
      "If I fail this class , I will retake it .\n",
      "Hello , I 'm David .\n",
      "Who are you ?\n"
     ]
    }
   ],
   "source": [
    "model = PuncLstm(CLASSES, WINDOW_SIZE)\n",
    "load_model(model, \"./checkpoints/lstm/lstm.pth\")\n",
    "\n",
    "sentences = [\n",
    "    \"if i fail this class i will retake it\",\n",
    "    \"hello i'm david\",\n",
    "    \"who are you\"\n",
    "]\n",
    "\n",
    "for sentence in sentences:\n",
    "    infer_x, tokens = preprocess_data_inference(sentence, vectors)\n",
    "    infer_loader = DataLoader(PuncInferenceDataset(infer_x), batch_size=256,\n",
    "                              shuffle=False, num_workers=0)\n",
    "    predictions = infer(infer_loader, model, vectors)\n",
    "    print(reconstruct(predictions, tokens))"
   ]
  },
  {
   "cell_type": "code",
   "execution_count": null,
   "metadata": {},
   "outputs": [],
   "source": []
  }
 ],
 "metadata": {
  "kernelspec": {
   "display_name": "Python 3",
   "language": "python",
   "name": "python3"
  },
  "language_info": {
   "codemirror_mode": {
    "name": "ipython",
    "version": 3
   },
   "file_extension": ".py",
   "mimetype": "text/x-python",
   "name": "python",
   "nbconvert_exporter": "python",
   "pygments_lexer": "ipython3",
   "version": "3.7.4"
  }
 },
 "nbformat": 4,
 "nbformat_minor": 4
}
