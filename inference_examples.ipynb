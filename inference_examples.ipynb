{
 "cells": [
  {
   "cell_type": "code",
   "execution_count": 1,
   "metadata": {},
   "outputs": [
    {
     "name": "stdout",
     "output_type": "stream",
     "text": [
      "cuda:0\n"
     ]
    }
   ],
   "source": [
    "from torchnlp.word_to_vector import GloVe\n",
    "from utils import *\n",
    "from models import *\n",
    "device = torch.device(\"cuda:0\" if torch.cuda.is_available() else \"cpu\")\n",
    "print(device)"
   ]
  },
  {
   "cell_type": "code",
   "execution_count": 2,
   "metadata": {},
   "outputs": [],
   "source": [
    "vectors = GloVe()"
   ]
  },
  {
   "cell_type": "code",
   "execution_count": 3,
   "metadata": {},
   "outputs": [
    {
     "name": "stdout",
     "output_type": "stream",
     "text": [
      "If you let me in , I will punch your face .\n",
      "Hello , I 'm David .\n"
     ]
    }
   ],
   "source": [
    "model = PuncLinear(CLASSES, WINDOW_SIZE)\n",
    "load_model(model, \"./checkpoints/linear/baseline.pth\")\n",
    "\n",
    "sentences = [\n",
    "    \"if you let me in i will punch your face\",\n",
    "    \"hello i'm david\"\n",
    "]\n",
    "\n",
    "for sentence in sentences:\n",
    "    infer_x, tokens = preprocess_data_inference(sentence, vectors)\n",
    "    infer_loader = DataLoader(PuncInferenceDataset(infer_x), batch_size=256,\n",
    "                              shuffle=False, num_workers=0)\n",
    "    predictions = infer(infer_loader, model, vectors)\n",
    "    print(reconstruct(predictions, tokens))"
   ]
  },
  {
   "cell_type": "code",
   "execution_count": null,
   "metadata": {},
   "outputs": [],
   "source": []
  }
 ],
 "metadata": {
  "kernelspec": {
   "display_name": "Python 3",
   "language": "python",
   "name": "python3"
  },
  "language_info": {
   "codemirror_mode": {
    "name": "ipython",
    "version": 3
   },
   "file_extension": ".py",
   "mimetype": "text/x-python",
   "name": "python",
   "nbconvert_exporter": "python",
   "pygments_lexer": "ipython3",
   "version": "3.7.4"
  }
 },
 "nbformat": 4,
 "nbformat_minor": 4
}
