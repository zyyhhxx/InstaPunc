{
 "cells": [
  {
   "cell_type": "code",
   "execution_count": 1,
   "metadata": {},
   "outputs": [
    {
     "name": "stdout",
     "output_type": "stream",
     "text": [
      "cuda:0\n"
     ]
    }
   ],
   "source": [
    "from IPython.display import display\n",
    "from torchnlp.datasets import iwslt_dataset\n",
    "from torchnlp.word_to_vector import GloVe\n",
    "from utils import *\n",
    "from models import *\n",
    "device = torch.device(\"cuda:0\" if torch.cuda.is_available() else \"cpu\")\n",
    "print(device)"
   ]
  },
  {
   "cell_type": "code",
   "execution_count": 2,
   "metadata": {},
   "outputs": [],
   "source": [
    "vectors = GloVe()"
   ]
  },
  {
   "cell_type": "code",
   "execution_count": 3,
   "metadata": {},
   "outputs": [
    {
     "name": "stdout",
     "output_type": "stream",
     "text": [
      "Train: 196884\n",
      "Dev: 993\n",
      "Test: 1305\n"
     ]
    }
   ],
   "source": [
    "train_raw = [sentence['en'] for sentence in iwslt_dataset(train=True)]\n",
    "dev_raw = [sentence['en'] for sentence in iwslt_dataset(dev=True)]\n",
    "test_raw = [sentence['en'] for sentence in iwslt_dataset(test=True)]\n",
    "print(\"Train:\", len(train_raw))\n",
    "print(\"Dev:\", len(dev_raw))\n",
    "print(\"Test:\", len(test_raw))"
   ]
  },
  {
   "cell_type": "code",
   "execution_count": 4,
   "metadata": {},
   "outputs": [
    {
     "name": "stdout",
     "output_type": "stream",
     "text": [
      "Preprocessing the train data\n",
      "Tokenizing:\n"
     ]
    },
    {
     "data": {
      "application/vnd.jupyter.widget-view+json": {
       "model_id": "b19c6df76acd401cbcfff5c2233ce87d",
       "version_major": 2,
       "version_minor": 0
      },
      "text/plain": [
       "HBox(children=(FloatProgress(value=0.0, max=196884.0), HTML(value='')))"
      ]
     },
     "metadata": {},
     "output_type": "display_data"
    },
    {
     "name": "stdout",
     "output_type": "stream",
     "text": [
      "\n",
      "Padding:\n"
     ]
    },
    {
     "data": {
      "application/vnd.jupyter.widget-view+json": {
       "model_id": "c21f05da8f264ed58f3b1bb317df8e82",
       "version_major": 2,
       "version_minor": 0
      },
      "text/plain": [
       "HBox(children=(FloatProgress(value=0.0, max=196880.0), HTML(value='')))"
      ]
     },
     "metadata": {},
     "output_type": "display_data"
    },
    {
     "name": "stdout",
     "output_type": "stream",
     "text": [
      "\n",
      "Creating labels:\n"
     ]
    },
    {
     "data": {
      "application/vnd.jupyter.widget-view+json": {
       "model_id": "130c08905498442b91c5d1a195adc594",
       "version_major": 2,
       "version_minor": 0
      },
      "text/plain": [
       "HBox(children=(FloatProgress(value=0.0, max=196880.0), HTML(value='')))"
      ]
     },
     "metadata": {},
     "output_type": "display_data"
    },
    {
     "name": "stdout",
     "output_type": "stream",
     "text": [
      "\n",
      "Get word vector weights\n"
     ]
    },
    {
     "data": {
      "application/vnd.jupyter.widget-view+json": {
       "model_id": "4510e74bfa2d44a7872eb506e2926f49",
       "version_major": 2,
       "version_minor": 0
      },
      "text/plain": [
       "HBox(children=(FloatProgress(value=0.0, max=196880.0), HTML(value='')))"
      ]
     },
     "metadata": {},
     "output_type": "display_data"
    },
    {
     "name": "stdout",
     "output_type": "stream",
     "text": [
      "\n",
      "Converting labels to tensor\n"
     ]
    },
    {
     "data": {
      "application/vnd.jupyter.widget-view+json": {
       "model_id": "fb6aa68d6e4a4580b6472aad1f767cee",
       "version_major": 2,
       "version_minor": 0
      },
      "text/plain": [
       "HBox(children=(FloatProgress(value=0.0, max=3483278.0), HTML(value='')))"
      ]
     },
     "metadata": {},
     "output_type": "display_data"
    },
    {
     "name": "stdout",
     "output_type": "stream",
     "text": [
      "\n",
      "Printing samples of the dataset\n",
      "['<pad>', '<pad>', 'David', 'Gallo', 'This'] ('o', True)\n",
      "['<pad>', 'David', 'Gallo', 'This', 'is'] ('o', True)\n",
      "['David', 'Gallo', 'This', 'is', 'Bill'] ('o', True)\n",
      "['Gallo', 'This', 'is', 'Bill', 'Lange'] ('o', False)\n",
      "['This', 'is', 'Bill', 'Lange', 'I'] ('o', True)\n",
      "['is', 'Bill', 'Lange', 'I', \"'m\"] ('.', True)\n",
      "['Bill', 'Lange', 'I', \"'m\", 'Dave'] ('o', True)\n",
      "['Lange', 'I', \"'m\", 'Dave', 'Gallo'] ('o', False)\n",
      "['I', \"'m\", 'Dave', 'Gallo', '<pad>'] ('o', True)\n",
      "[\"'m\", 'Dave', 'Gallo', '<pad>', '<pad>'] ('.', True)\n",
      "['<pad>', '<pad>', 'And', 'we', \"'re\"] ('o', True)\n",
      "['<pad>', 'And', 'we', \"'re\", 'going'] ('o', False)\n",
      "['And', 'we', \"'re\", 'going', 'to'] ('o', False)\n",
      "['we', \"'re\", 'going', 'to', 'tell'] ('o', False)\n",
      "[\"'re\", 'going', 'to', 'tell', 'you'] ('o', False)\n",
      "Preprocessing the dev data\n",
      "Tokenizing:\n"
     ]
    },
    {
     "data": {
      "application/vnd.jupyter.widget-view+json": {
       "model_id": "0dfae8af23f243b49e60d75273c39602",
       "version_major": 2,
       "version_minor": 0
      },
      "text/plain": [
       "HBox(children=(FloatProgress(value=0.0, max=993.0), HTML(value='')))"
      ]
     },
     "metadata": {},
     "output_type": "display_data"
    },
    {
     "name": "stdout",
     "output_type": "stream",
     "text": [
      "\n",
      "Padding:\n"
     ]
    },
    {
     "data": {
      "application/vnd.jupyter.widget-view+json": {
       "model_id": "34e6887ce8124f70852ccaf680fa0bc1",
       "version_major": 2,
       "version_minor": 0
      },
      "text/plain": [
       "HBox(children=(FloatProgress(value=0.0, max=993.0), HTML(value='')))"
      ]
     },
     "metadata": {},
     "output_type": "display_data"
    },
    {
     "name": "stdout",
     "output_type": "stream",
     "text": [
      "\n",
      "Creating labels:\n"
     ]
    },
    {
     "data": {
      "application/vnd.jupyter.widget-view+json": {
       "model_id": "e0b70e3bbfed4b1db0c1164d7e23ed88",
       "version_major": 2,
       "version_minor": 0
      },
      "text/plain": [
       "HBox(children=(FloatProgress(value=0.0, max=993.0), HTML(value='')))"
      ]
     },
     "metadata": {},
     "output_type": "display_data"
    },
    {
     "name": "stdout",
     "output_type": "stream",
     "text": [
      "\n",
      "Get word vector weights\n"
     ]
    },
    {
     "data": {
      "application/vnd.jupyter.widget-view+json": {
       "model_id": "1aa0fea4d59c4e75a16be7031b97a1c2",
       "version_major": 2,
       "version_minor": 0
      },
      "text/plain": [
       "HBox(children=(FloatProgress(value=0.0, max=993.0), HTML(value='')))"
      ]
     },
     "metadata": {},
     "output_type": "display_data"
    },
    {
     "name": "stdout",
     "output_type": "stream",
     "text": [
      "\n",
      "Converting labels to tensor\n"
     ]
    },
    {
     "data": {
      "application/vnd.jupyter.widget-view+json": {
       "model_id": "375e8b2eaeb24edd8e361ee686396261",
       "version_major": 2,
       "version_minor": 0
      },
      "text/plain": [
       "HBox(children=(FloatProgress(value=0.0, max=18302.0), HTML(value='')))"
      ]
     },
     "metadata": {},
     "output_type": "display_data"
    },
    {
     "name": "stdout",
     "output_type": "stream",
     "text": [
      "\n",
      "Printing samples of the dataset\n",
      "['<pad>', '<pad>', 'When', 'I', 'was'] ('o', True)\n",
      "['<pad>', 'When', 'I', 'was', '11'] ('o', True)\n",
      "['When', 'I', 'was', '11', 'I'] ('o', False)\n",
      "['I', 'was', '11', 'I', 'remember'] (',', False)\n",
      "['was', '11', 'I', 'remember', 'waking'] ('o', True)\n",
      "['11', 'I', 'remember', 'waking', 'up'] ('o', False)\n",
      "['I', 'remember', 'waking', 'up', 'one'] ('o', False)\n",
      "['remember', 'waking', 'up', 'one', 'morning'] ('o', False)\n",
      "['waking', 'up', 'one', 'morning', 'to'] ('o', False)\n",
      "['up', 'one', 'morning', 'to', 'the'] ('o', False)\n",
      "['one', 'morning', 'to', 'the', 'sound'] ('o', False)\n",
      "['morning', 'to', 'the', 'sound', 'of'] ('o', False)\n",
      "['to', 'the', 'sound', 'of', 'joy'] ('o', False)\n",
      "['the', 'sound', 'of', 'joy', 'in'] ('o', False)\n",
      "['sound', 'of', 'joy', 'in', 'my'] ('o', False)\n",
      "Preprocessing the test data\n",
      "Tokenizing:\n"
     ]
    },
    {
     "data": {
      "application/vnd.jupyter.widget-view+json": {
       "model_id": "a11ecc118b9744989b1ce140ea4873f9",
       "version_major": 2,
       "version_minor": 0
      },
      "text/plain": [
       "HBox(children=(FloatProgress(value=0.0, max=1305.0), HTML(value='')))"
      ]
     },
     "metadata": {},
     "output_type": "display_data"
    },
    {
     "name": "stdout",
     "output_type": "stream",
     "text": [
      "\n",
      "Padding:\n"
     ]
    },
    {
     "data": {
      "application/vnd.jupyter.widget-view+json": {
       "model_id": "b9acfadb4bf74023b059104e128f60cf",
       "version_major": 2,
       "version_minor": 0
      },
      "text/plain": [
       "HBox(children=(FloatProgress(value=0.0, max=1305.0), HTML(value='')))"
      ]
     },
     "metadata": {},
     "output_type": "display_data"
    },
    {
     "name": "stdout",
     "output_type": "stream",
     "text": [
      "\n",
      "Creating labels:\n"
     ]
    },
    {
     "data": {
      "application/vnd.jupyter.widget-view+json": {
       "model_id": "7bb1962763404f8d8604029cd05ed317",
       "version_major": 2,
       "version_minor": 0
      },
      "text/plain": [
       "HBox(children=(FloatProgress(value=0.0, max=1305.0), HTML(value='')))"
      ]
     },
     "metadata": {},
     "output_type": "display_data"
    },
    {
     "name": "stdout",
     "output_type": "stream",
     "text": [
      "\n",
      "Get word vector weights\n"
     ]
    },
    {
     "data": {
      "application/vnd.jupyter.widget-view+json": {
       "model_id": "d601c396511a42769290316b86d98f44",
       "version_major": 2,
       "version_minor": 0
      },
      "text/plain": [
       "HBox(children=(FloatProgress(value=0.0, max=1305.0), HTML(value='')))"
      ]
     },
     "metadata": {},
     "output_type": "display_data"
    },
    {
     "name": "stdout",
     "output_type": "stream",
     "text": [
      "\n",
      "Converting labels to tensor\n"
     ]
    },
    {
     "data": {
      "application/vnd.jupyter.widget-view+json": {
       "model_id": "8b596c8a36ca440d9e77f24b9006ab1d",
       "version_major": 2,
       "version_minor": 0
      },
      "text/plain": [
       "HBox(children=(FloatProgress(value=0.0, max=21793.0), HTML(value='')))"
      ]
     },
     "metadata": {},
     "output_type": "display_data"
    },
    {
     "name": "stdout",
     "output_type": "stream",
     "text": [
      "\n",
      "Printing samples of the dataset\n",
      "['<pad>', '<pad>', 'When', 'I', 'was'] ('o', True)\n",
      "['<pad>', 'When', 'I', 'was', 'in'] ('o', True)\n",
      "['When', 'I', 'was', 'in', 'my'] ('o', False)\n",
      "['I', 'was', 'in', 'my', '20s'] ('o', False)\n",
      "['was', 'in', 'my', '20s', 'I'] ('o', False)\n",
      "['in', 'my', '20s', 'I', 'saw'] (',', False)\n",
      "['my', '20s', 'I', 'saw', 'my'] ('o', True)\n",
      "['20s', 'I', 'saw', 'my', 'very'] ('o', False)\n",
      "['I', 'saw', 'my', 'very', 'first'] ('o', False)\n",
      "['saw', 'my', 'very', 'first', 'psychotherapy'] ('o', False)\n",
      "['my', 'very', 'first', 'psychotherapy', 'client'] ('o', False)\n",
      "['very', 'first', 'psychotherapy', 'client', '<pad>'] ('o', False)\n",
      "['first', 'psychotherapy', 'client', '<pad>', '<pad>'] ('.', False)\n",
      "['<pad>', '<pad>', 'I', 'was', 'a'] ('o', True)\n",
      "['<pad>', 'I', 'was', 'a', 'Ph.D.'] ('o', False)\n"
     ]
    }
   ],
   "source": [
    "print(\"Preprocessing the train data\")\n",
    "train_x, train_y = preprocess_data(train_raw, vectors)\n",
    "print(\"Preprocessing the dev data\")\n",
    "dev_x, dev_y = preprocess_data(dev_raw, vectors)\n",
    "print(\"Preprocessing the test data\")\n",
    "test_x, test_y = preprocess_data(test_raw, vectors)"
   ]
  },
  {
   "cell_type": "code",
   "execution_count": 5,
   "metadata": {},
   "outputs": [],
   "source": [
    "train_loader = DataLoader(PuncDataset(train_x, train_y), batch_size=256,\n",
    "                          shuffle=True, num_workers=0)\n",
    "dev_loader = DataLoader(PuncDataset(dev_x, dev_y), batch_size=256,\n",
    "                        shuffle=True, num_workers=0)\n",
    "test_loader = DataLoader(PuncDataset(test_x, test_y), batch_size=256,\n",
    "                        shuffle=True, num_workers=0)"
   ]
  },
  {
   "cell_type": "code",
   "execution_count": 6,
   "metadata": {},
   "outputs": [],
   "source": [
    "import torch.optim as optim\n",
    "\n",
    "model = PuncLinear(CLASSES, WINDOW_SIZE)\n",
    "model.to(device)\n",
    "criterions = [nn.CrossEntropyLoss(), nn.CrossEntropyLoss()]\n",
    "optimizer = optim.SGD(model.parameters(), lr=0.01, momentum=0.9)"
   ]
  },
  {
   "cell_type": "code",
   "execution_count": 10,
   "metadata": {},
   "outputs": [
    {
     "name": "stdout",
     "output_type": "stream",
     "text": [
      "----------------------------\n",
      "Epoch: 0\n"
     ]
    },
    {
     "data": {
      "application/vnd.jupyter.widget-view+json": {
       "model_id": "",
       "version_major": 2,
       "version_minor": 0
      },
      "text/plain": [
       "HBox(children=(FloatProgress(value=0.0, max=13607.0), HTML(value='')))"
      ]
     },
     "metadata": {},
     "output_type": "display_data"
    },
    {
     "name": "stdout",
     "output_type": "stream",
     "text": [
      "Training loss for punctuation: 233.04462832688603\n",
      "Training loss for capitalization: 95.79393468434834\n",
      "Validation accuracy: punctuation: 94.7437%, capitalization: 98.6395%\n",
      "----------------------------\n",
      "Epoch: 1\n"
     ]
    },
    {
     "data": {
      "application/vnd.jupyter.widget-view+json": {
       "model_id": "",
       "version_major": 2,
       "version_minor": 0
      },
      "text/plain": [
       "HBox(children=(FloatProgress(value=0.0, max=13607.0), HTML(value='')))"
      ]
     },
     "metadata": {},
     "output_type": "display_data"
    },
    {
     "name": "stdout",
     "output_type": "stream",
     "text": [
      "Training loss for punctuation: 232.47752106437662\n",
      "Training loss for capitalization: 95.58864761041475\n",
      "Validation accuracy: punctuation: 94.8202%, capitalization: 98.6559%\n",
      "----------------------------\n",
      "Epoch: 2\n"
     ]
    },
    {
     "data": {
      "application/vnd.jupyter.widget-view+json": {
       "model_id": "",
       "version_major": 2,
       "version_minor": 0
      },
      "text/plain": [
       "HBox(children=(FloatProgress(value=0.0, max=13607.0), HTML(value='')))"
      ]
     },
     "metadata": {},
     "output_type": "display_data"
    },
    {
     "name": "stdout",
     "output_type": "stream",
     "text": [
      "Training loss for punctuation: 231.97785521088878\n",
      "Training loss for capitalization: 95.37523406093946\n",
      "Validation accuracy: punctuation: 94.8858%, capitalization: 98.6286%\n",
      "----------------------------\n",
      "Epoch: 3\n"
     ]
    },
    {
     "data": {
      "application/vnd.jupyter.widget-view+json": {
       "model_id": "",
       "version_major": 2,
       "version_minor": 0
      },
      "text/plain": [
       "HBox(children=(FloatProgress(value=0.0, max=13607.0), HTML(value='')))"
      ]
     },
     "metadata": {},
     "output_type": "display_data"
    },
    {
     "name": "stdout",
     "output_type": "stream",
     "text": [
      "Training loss for punctuation: 231.66812048685\n",
      "Training loss for capitalization: 95.08412422431753\n",
      "Validation accuracy: punctuation: 94.935%, capitalization: 98.6286%\n",
      "----------------------------\n",
      "Epoch: 4\n"
     ]
    },
    {
     "data": {
      "application/vnd.jupyter.widget-view+json": {
       "model_id": "",
       "version_major": 2,
       "version_minor": 0
      },
      "text/plain": [
       "HBox(children=(FloatProgress(value=0.0, max=13607.0), HTML(value='')))"
      ]
     },
     "metadata": {},
     "output_type": "display_data"
    },
    {
     "name": "stdout",
     "output_type": "stream",
     "text": [
      "Training loss for punctuation: 231.34192747290746\n",
      "Training loss for capitalization: 95.0204156262051\n",
      "Validation accuracy: punctuation: 94.9241%, capitalization: 98.6723%\n",
      "----------------------------\n",
      "Epoch: 5\n"
     ]
    },
    {
     "data": {
      "application/vnd.jupyter.widget-view+json": {
       "model_id": "",
       "version_major": 2,
       "version_minor": 0
      },
      "text/plain": [
       "HBox(children=(FloatProgress(value=0.0, max=13607.0), HTML(value='')))"
      ]
     },
     "metadata": {},
     "output_type": "display_data"
    },
    {
     "name": "stdout",
     "output_type": "stream",
     "text": [
      "Training loss for punctuation: 230.87251865596593\n",
      "Training loss for capitalization: 94.87388823608758\n",
      "Validation accuracy: punctuation: 95.0279%, capitalization: 98.6777%\n",
      "----------------------------\n",
      "Epoch: 6\n"
     ]
    },
    {
     "data": {
      "application/vnd.jupyter.widget-view+json": {
       "model_id": "",
       "version_major": 2,
       "version_minor": 0
      },
      "text/plain": [
       "HBox(children=(FloatProgress(value=0.0, max=13607.0), HTML(value='')))"
      ]
     },
     "metadata": {},
     "output_type": "display_data"
    },
    {
     "name": "stdout",
     "output_type": "stream",
     "text": [
      "Training loss for punctuation: 230.79703721365308\n",
      "Training loss for capitalization: 94.86022494904937\n",
      "Validation accuracy: punctuation: 94.8858%, capitalization: 98.6559%\n",
      "Finished Training\n"
     ]
    }
   ],
   "source": [
    "if __name__=='__main__':\n",
    "    train(train_loader, dev_loader, model, criterions, optimizer, 7, device)\n",
    "\n",
    "    print('Finished Training')"
   ]
  },
  {
   "cell_type": "code",
   "execution_count": 11,
   "metadata": {},
   "outputs": [
    {
     "name": "stdout",
     "output_type": "stream",
     "text": [
      "Test accuracy: punctuation: 95.0397%, capitalization: 98.5959%\n"
     ]
    },
    {
     "data": {
      "text/html": [
       "<div>\n",
       "<style scoped>\n",
       "    .dataframe tbody tr th:only-of-type {\n",
       "        vertical-align: middle;\n",
       "    }\n",
       "\n",
       "    .dataframe tbody tr th {\n",
       "        vertical-align: top;\n",
       "    }\n",
       "\n",
       "    .dataframe thead th {\n",
       "        text-align: right;\n",
       "    }\n",
       "</style>\n",
       "<table border=\"1\" class=\"dataframe\">\n",
       "  <thead>\n",
       "    <tr style=\"text-align: right;\">\n",
       "      <th></th>\n",
       "      <th>predicted</th>\n",
       "      <th>predicted correctly</th>\n",
       "      <th>predicted expectation</th>\n",
       "      <th>precision</th>\n",
       "      <th>recall</th>\n",
       "      <th>f_score</th>\n",
       "    </tr>\n",
       "    <tr>\n",
       "      <th>punctuation</th>\n",
       "      <th></th>\n",
       "      <th></th>\n",
       "      <th></th>\n",
       "      <th></th>\n",
       "      <th></th>\n",
       "      <th></th>\n",
       "    </tr>\n",
       "  </thead>\n",
       "  <tbody>\n",
       "    <tr>\n",
       "      <td>o</td>\n",
       "      <td>19432</td>\n",
       "      <td>18785</td>\n",
       "      <td>19071</td>\n",
       "      <td>0.966655</td>\n",
       "      <td>0.984952</td>\n",
       "      <td>0.975717</td>\n",
       "    </tr>\n",
       "    <tr>\n",
       "      <td>,</td>\n",
       "      <td>1052</td>\n",
       "      <td>747</td>\n",
       "      <td>1354</td>\n",
       "      <td>0.709402</td>\n",
       "      <td>0.551292</td>\n",
       "      <td>0.620432</td>\n",
       "    </tr>\n",
       "    <tr>\n",
       "      <td>.</td>\n",
       "      <td>1309</td>\n",
       "      <td>1180</td>\n",
       "      <td>1227</td>\n",
       "      <td>0.900763</td>\n",
       "      <td>0.960912</td>\n",
       "      <td>0.929866</td>\n",
       "    </tr>\n",
       "    <tr>\n",
       "      <td>?</td>\n",
       "      <td>0</td>\n",
       "      <td>0</td>\n",
       "      <td>128</td>\n",
       "      <td>0.000000</td>\n",
       "      <td>0.000000</td>\n",
       "      <td>0.000000</td>\n",
       "    </tr>\n",
       "    <tr>\n",
       "      <td>!</td>\n",
       "      <td>0</td>\n",
       "      <td>0</td>\n",
       "      <td>13</td>\n",
       "      <td>0.000000</td>\n",
       "      <td>0.000000</td>\n",
       "      <td>0.000000</td>\n",
       "    </tr>\n",
       "  </tbody>\n",
       "</table>\n",
       "</div>"
      ],
      "text/plain": [
       "             predicted  predicted correctly  predicted expectation  precision  \\\n",
       "punctuation                                                                     \n",
       "o                19432                18785                  19071   0.966655   \n",
       ",                 1052                  747                   1354   0.709402   \n",
       ".                 1309                 1180                   1227   0.900763   \n",
       "?                    0                    0                    128   0.000000   \n",
       "!                    0                    0                     13   0.000000   \n",
       "\n",
       "               recall   f_score  \n",
       "punctuation                      \n",
       "o            0.984952  0.975717  \n",
       ",            0.551292  0.620432  \n",
       ".            0.960912  0.929866  \n",
       "?            0.000000  0.000000  \n",
       "!            0.000000  0.000000  "
      ]
     },
     "metadata": {},
     "output_type": "display_data"
    },
    {
     "data": {
      "text/html": [
       "<div>\n",
       "<style scoped>\n",
       "    .dataframe tbody tr th:only-of-type {\n",
       "        vertical-align: middle;\n",
       "    }\n",
       "\n",
       "    .dataframe tbody tr th {\n",
       "        vertical-align: top;\n",
       "    }\n",
       "\n",
       "    .dataframe thead th {\n",
       "        text-align: right;\n",
       "    }\n",
       "</style>\n",
       "<table border=\"1\" class=\"dataframe\">\n",
       "  <thead>\n",
       "    <tr style=\"text-align: right;\">\n",
       "      <th></th>\n",
       "      <th>predicted</th>\n",
       "      <th>predicted correctly</th>\n",
       "      <th>predicted expectation</th>\n",
       "      <th>precision</th>\n",
       "      <th>recall</th>\n",
       "      <th>f_score</th>\n",
       "    </tr>\n",
       "    <tr>\n",
       "      <th>capitalization</th>\n",
       "      <th></th>\n",
       "      <th></th>\n",
       "      <th></th>\n",
       "      <th></th>\n",
       "      <th></th>\n",
       "      <th></th>\n",
       "    </tr>\n",
       "  </thead>\n",
       "  <tbody>\n",
       "    <tr>\n",
       "      <td>No</td>\n",
       "      <td>19384</td>\n",
       "      <td>19154</td>\n",
       "      <td>19230</td>\n",
       "      <td>0.988084</td>\n",
       "      <td>0.995996</td>\n",
       "      <td>0.992024</td>\n",
       "    </tr>\n",
       "    <tr>\n",
       "      <td>Yes</td>\n",
       "      <td>2409</td>\n",
       "      <td>2333</td>\n",
       "      <td>2563</td>\n",
       "      <td>0.968050</td>\n",
       "      <td>0.909906</td>\n",
       "      <td>0.938078</td>\n",
       "    </tr>\n",
       "  </tbody>\n",
       "</table>\n",
       "</div>"
      ],
      "text/plain": [
       "                predicted  predicted correctly  predicted expectation  \\\n",
       "capitalization                                                          \n",
       "No                  19384                19154                  19230   \n",
       "Yes                  2409                 2333                   2563   \n",
       "\n",
       "                precision    recall   f_score  \n",
       "capitalization                                 \n",
       "No               0.988084  0.995996  0.992024  \n",
       "Yes              0.968050  0.909906  0.938078  "
      ]
     },
     "metadata": {},
     "output_type": "display_data"
    }
   ],
   "source": [
    "dfs = test(test_loader, model, device)\n",
    "display(dfs[0])\n",
    "display(dfs[1])"
   ]
  },
  {
   "cell_type": "code",
   "execution_count": 9,
   "metadata": {},
   "outputs": [],
   "source": [
    "#save_model(model)"
   ]
  },
  {
   "cell_type": "code",
   "execution_count": null,
   "metadata": {},
   "outputs": [],
   "source": []
  }
 ],
 "metadata": {
  "kernelspec": {
   "display_name": "Python 3",
   "language": "python",
   "name": "python3"
  },
  "language_info": {
   "codemirror_mode": {
    "name": "ipython",
    "version": 3
   },
   "file_extension": ".py",
   "mimetype": "text/x-python",
   "name": "python",
   "nbconvert_exporter": "python",
   "pygments_lexer": "ipython3",
   "version": "3.7.4"
  }
 },
 "nbformat": 4,
 "nbformat_minor": 2
}
